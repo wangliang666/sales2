{
 "cells": [
  {
   "cell_type": "code",
   "execution_count": 2,
   "metadata": {
    "collapsed": true
   },
   "outputs": [],
   "source": [
    "import pandas as pd\n",
    "import numpy as np\n",
    "import datetime\n",
    "import time"
   ]
  },
  {
   "cell_type": "code",
   "execution_count": 3,
   "metadata": {
    "collapsed": true
   },
   "outputs": [],
   "source": [
    "#计算误差函数\n",
    "def MSE(y, Y):\n",
    "    return np.mean((y-Y)**2)\n",
    "\n",
    "#构建神经网络\n",
    "class NeuralNetwork(object):\n",
    "    def __init__(self, input_nodes, hidden_nodes, output_nodes, learning_rate):\n",
    "        # Set number of nodes in input, hidden and output layers.\n",
    "        self.input_nodes = input_nodes\n",
    "        self.hidden_nodes = hidden_nodes\n",
    "        self.output_nodes = output_nodes\n",
    "\n",
    "        # Initialize weights\n",
    "        self.weights_input_to_hidden = np.random.normal(0.0, self.input_nodes**-0.5, \n",
    "                                       (self.input_nodes, self.hidden_nodes))\n",
    "        self.weights_hidden_to_output = np.random.normal(0.0, self.hidden_nodes**-0.5, \n",
    "                                       self.hidden_nodes)\n",
    "        self.lr = learning_rate\n",
    "        self.activation_function = lambda x : 1 / (1 + np.exp(-x))  # Replace 0 with your sigmoid calculation.\n",
    "    \n",
    "    def train(self, features, targets, train_perishable_0):\n",
    "        n_records = features.shape[0]\n",
    "        delta_weights_i_h = np.zeros(self.weights_input_to_hidden.shape)\n",
    "        delta_weights_h_o = np.zeros(self.weights_hidden_to_output.shape)\n",
    "        \n",
    "        for X, y,z in zip(features, targets,train_perishable_0):\n",
    "\n",
    "            hidden_input = np.dot(X,self.weights_input_to_hidden) # signals into hidden layer\n",
    "            hidden_input = hidden_input.astype(np.float64)\n",
    "            hidden_output = self.activation_function(hidden_input)\n",
    "            final_input = np.dot(hidden_output,self.weights_hidden_to_output) # signals into final output layer\n",
    "            final_output = self.activation_function(final_input)\n",
    "            error = y[0] - final_output # Output layer error is the difference between desired target and actual output.\n",
    "            output_error_term = error * final_output * (1 - final_output)\n",
    "            \n",
    "            hidden_error = np.dot(output_error_term, self.weights_hidden_to_output)\n",
    "            hidden_error_term = hidden_error * hidden_output * (1-hidden_output)\n",
    "            delta_weights_h_o += output_error_term * hidden_output\n",
    "            tem = hidden_error * X[:, None]\n",
    "            tem = tem.astype(np.float64)\n",
    "            delta_weights_i_h += tem\n",
    "        self.weights_hidden_to_output += self.lr * delta_weights_h_o / n_records # update hidden-to-output weights with gradient descent step\n",
    "        self.weights_input_to_hidden += self.lr * delta_weights_i_h / n_records# update input-to-hidden weights with gradient descent step\n",
    "    def run(self, features):\n",
    "        hidden_inputs = np.dot(features,self.weights_input_to_hidden) \n",
    "        hidden_inputs = hidden_inputs.astype(np.float64)\n",
    "        hidden_outputs = self.activation_function(hidden_inputs) # signals from hidden layer\n",
    "        final_inputs = np.dot(hidden_outputs,self.weights_hidden_to_output) # signals into final output layer\n",
    "        final_outputs = final_inputs # signals from final output layer \n",
    "        return final_outputs\n"
   ]
  },
  {
   "cell_type": "code",
   "execution_count": 4,
   "metadata": {
    "collapsed": true,
    "scrolled": false
   },
   "outputs": [],
   "source": [
    "#处理store数据\n",
    "stores = pd.read_csv('data/stores.csv')\n",
    "stores_fields = ['city', 'state', 'type', 'cluster']\n",
    "for each in stores_fields:\n",
    "    dummies = pd.get_dummies(stores[each], prefix=each, drop_first=False)\n",
    "    stores = pd.concat([stores, dummies], axis=1)\n",
    "fields_to_drop = ['city', 'state', 'type', 'cluster']\n",
    "stores = stores.drop(fields_to_drop, axis=1)"
   ]
  },
  {
   "cell_type": "code",
   "execution_count": 5,
   "metadata": {
    "collapsed": true
   },
   "outputs": [],
   "source": [
    "#处理items数据\n",
    "items = pd.read_csv('data/items.csv')\n",
    "items_fields = ['family', 'class', 'perishable']\n",
    "for each in items_fields:\n",
    "    dummies = pd.get_dummies(items[each], prefix=each, drop_first=False)\n",
    "    items = pd.concat([items, dummies], axis=1)\n",
    "fields_to_drop = ['family', 'class', 'perishable']\n",
    "items = items.drop(fields_to_drop, axis=1)"
   ]
  },
  {
   "cell_type": "code",
   "execution_count": 6,
   "metadata": {
    "collapsed": true
   },
   "outputs": [],
   "source": [
    "#处理oil数据,对于空值，用前后2天的数据取平均值;有些日期没有价格，则添加一条记录\n",
    "oil = pd.read_csv('data/oil.csv')\n",
    "mean, std = oil['dcoilwtico'].mean(), oil['dcoilwtico'].std()\n",
    "for index,row in oil.iterrows():\n",
    "    if (np.isnan(row['dcoilwtico'])):\n",
    "        if index == 0:\n",
    "            oil.loc[index,'dcoilwtico'] = (oil.loc[1,'dcoilwtico'] + oil.loc[2,'dcoilwtico']) / 2\n",
    "        elif index == len(oil):\n",
    "            oil.loc[index,'dcoilwtico'] = (oil.loc[len(oil)-1,'dcoilwtico'] + oil.loc[len(oil)-2,'dcoilwtico']) / 2          \n",
    "        else :\n",
    "            oil.loc[index,'dcoilwtico'] = (oil.loc[index-1,'dcoilwtico'] + oil.loc[index+1,'dcoilwtico']) / 2\n",
    "oil.loc[:,'dcoilwtico'] = (oil['dcoilwtico']-mean)/std"
   ]
  },
  {
   "cell_type": "code",
   "execution_count": 7,
   "metadata": {
    "collapsed": true
   },
   "outputs": [],
   "source": [
    "#处理holiday数据\n",
    "holidays = pd.read_csv('data/holidays_events.csv')\n",
    "holidays_fields = ['type', 'locale', 'locale_name', 'description','transferred']\n",
    "for each in holidays_fields:\n",
    "    dummies = pd.get_dummies(holidays[each], prefix=each, drop_first=False)\n",
    "    holidays = pd.concat([holidays, dummies], axis=1)\n",
    "fields_to_drop = ['type', 'locale', 'locale_name', 'description','transferred']\n",
    "holidays = holidays.drop(fields_to_drop, axis=1)"
   ]
  },
  {
   "cell_type": "code",
   "execution_count": 8,
   "metadata": {
    "collapsed": true
   },
   "outputs": [],
   "source": [
    "trains = pd.read_csv('data/train.csv',chunksize=10000)\n"
   ]
  },
  {
   "cell_type": "code",
   "execution_count": 11,
   "metadata": {},
   "outputs": [
    {
     "name": "stdout",
     "output_type": "stream",
     "text": [
      "train_data_begin:15:42:17\n"
     ]
    },
    {
     "ename": "KeyboardInterrupt",
     "evalue": "",
     "output_type": "error",
     "traceback": [
      "\u001b[1;31m---------------------------------------------------------------------------\u001b[0m",
      "\u001b[1;31mKeyboardInterrupt\u001b[0m                         Traceback (most recent call last)",
      "\u001b[1;32m<ipython-input-11-192fa793a2b8>\u001b[0m in \u001b[0;36m<module>\u001b[1;34m()\u001b[0m\n\u001b[0;32m     28\u001b[0m         \u001b[0mnetwork\u001b[0m\u001b[1;33m.\u001b[0m\u001b[0mtrain\u001b[0m\u001b[1;33m(\u001b[0m\u001b[0mtrain_features\u001b[0m\u001b[1;33m.\u001b[0m\u001b[0mvalues\u001b[0m\u001b[1;33m,\u001b[0m \u001b[0mtrain_targets\u001b[0m\u001b[1;33m.\u001b[0m\u001b[0mvalues\u001b[0m\u001b[1;33m,\u001b[0m\u001b[0mtrain_perishable_0\u001b[0m\u001b[1;33m.\u001b[0m\u001b[0mvalues\u001b[0m\u001b[1;33m)\u001b[0m\u001b[1;33m\u001b[0m\u001b[0m\n\u001b[0;32m     29\u001b[0m         \u001b[1;31m# Printing out the training progress\u001b[0m\u001b[1;33m\u001b[0m\u001b[1;33m\u001b[0m\u001b[0m\n\u001b[1;32m---> 30\u001b[1;33m         \u001b[0mtrain_loss\u001b[0m \u001b[1;33m=\u001b[0m \u001b[0mMSE\u001b[0m\u001b[1;33m(\u001b[0m\u001b[0mnetwork\u001b[0m\u001b[1;33m.\u001b[0m\u001b[0mrun\u001b[0m\u001b[1;33m(\u001b[0m\u001b[0mtrain_features\u001b[0m\u001b[1;33m.\u001b[0m\u001b[0mvalues\u001b[0m\u001b[1;33m)\u001b[0m\u001b[1;33m,\u001b[0m \u001b[0mtrain_targets\u001b[0m\u001b[1;33m.\u001b[0m\u001b[0mvalues\u001b[0m\u001b[1;33m)\u001b[0m\u001b[1;33m\u001b[0m\u001b[0m\n\u001b[0m\u001b[0;32m     31\u001b[0m         \u001b[1;32mif\u001b[0m \u001b[0mi\u001b[0m \u001b[1;33m%\u001b[0m \u001b[1;36m1\u001b[0m \u001b[1;33m==\u001b[0m \u001b[1;36m0\u001b[0m\u001b[1;33m:\u001b[0m\u001b[1;33m\u001b[0m\u001b[0m\n\u001b[0;32m     32\u001b[0m             \u001b[0mprint\u001b[0m\u001b[1;33m(\u001b[0m\u001b[0mstr\u001b[0m\u001b[1;33m(\u001b[0m\u001b[0mii\u001b[0m\u001b[1;33m)\u001b[0m \u001b[1;33m+\u001b[0m \u001b[1;34m':train_loss:'\u001b[0m \u001b[1;33m+\u001b[0m \u001b[0mstr\u001b[0m\u001b[1;33m(\u001b[0m\u001b[0mtrain_loss\u001b[0m\u001b[1;33m)\u001b[0m\u001b[1;33m)\u001b[0m\u001b[1;33m\u001b[0m\u001b[0m\n",
      "\u001b[1;32m<ipython-input-3-40c555455240>\u001b[0m in \u001b[0;36mMSE\u001b[1;34m(y, Y)\u001b[0m\n\u001b[0;32m      1\u001b[0m \u001b[1;31m#计算误差函数\u001b[0m\u001b[1;33m\u001b[0m\u001b[1;33m\u001b[0m\u001b[0m\n\u001b[0;32m      2\u001b[0m \u001b[1;32mdef\u001b[0m \u001b[0mMSE\u001b[0m\u001b[1;33m(\u001b[0m\u001b[0my\u001b[0m\u001b[1;33m,\u001b[0m \u001b[0mY\u001b[0m\u001b[1;33m)\u001b[0m\u001b[1;33m:\u001b[0m\u001b[1;33m\u001b[0m\u001b[0m\n\u001b[1;32m----> 3\u001b[1;33m     \u001b[1;32mreturn\u001b[0m \u001b[0mnp\u001b[0m\u001b[1;33m.\u001b[0m\u001b[0mmean\u001b[0m\u001b[1;33m(\u001b[0m\u001b[1;33m(\u001b[0m\u001b[0my\u001b[0m\u001b[1;33m-\u001b[0m\u001b[0mY\u001b[0m\u001b[1;33m)\u001b[0m\u001b[1;33m**\u001b[0m\u001b[1;36m2\u001b[0m\u001b[1;33m)\u001b[0m\u001b[1;33m\u001b[0m\u001b[0m\n\u001b[0m\u001b[0;32m      4\u001b[0m \u001b[1;33m\u001b[0m\u001b[0m\n\u001b[0;32m      5\u001b[0m \u001b[1;31m#构建神经网络\u001b[0m\u001b[1;33m\u001b[0m\u001b[1;33m\u001b[0m\u001b[0m\n",
      "\u001b[1;31mKeyboardInterrupt\u001b[0m: "
     ]
    }
   ],
   "source": [
    "#数据已清洗完成（除了原油价格），现在开始建立模型\n",
    "import sys\n",
    "print (\"train_data_begin:\"+time.strftime(\"%H:%M:%S\"))\n",
    "### Set the hyperparameters here ###\n",
    "iterations = 10\n",
    "learning_rate = 1\n",
    "hidden_nodes = 8\n",
    "output_nodes = 1\n",
    "#N_i = train_features.shape[1]\n",
    "network = NeuralNetwork(572, hidden_nodes, output_nodes, learning_rate)\n",
    "\n",
    "losses = {'train':[], 'validation':[]}\n",
    "for ii in range(iterations):\n",
    "    i = 0;\n",
    "    for train in  trains:\n",
    "        i = i + 1;\n",
    "        train['onpromotion_False'] = 0\n",
    "        train['onpromotion_True'] = 0\n",
    "        train = pd.merge(train,stores,on='store_nbr')\n",
    "        train = pd.merge(train,items,on='item_nbr')\n",
    "        train = pd.merge(train,holidays,how = 'left',on='date')\n",
    "        train = train.fillna(0)\n",
    "        drop_list = ['id','date','store_nbr','item_nbr','onpromotion']\n",
    "        train = train.drop(drop_list, axis=1)\n",
    "        target_fields = ['unit_sales']\n",
    "        train_perishable_0 = train['perishable_0']\n",
    "        train_features,train_targets = train.drop(target_fields, axis=1), train[target_fields]\n",
    "        network.train(train_features.values, train_targets.values,train_perishable_0.values)\n",
    "        # Printing out the training progress\n",
    "        train_loss = MSE(network.run(train_features.values), train_targets.values)\n",
    "        if i % 1 == 0:\n",
    "            print(str(ii) + ':train_loss:' + str(train_loss))\n",
    "print('----------------end-------------')"
   ]
  },
  {
   "cell_type": "code",
   "execution_count": null,
   "metadata": {
    "collapsed": true
   },
   "outputs": [],
   "source": []
  }
 ],
 "metadata": {
  "kernelspec": {
   "display_name": "Python 3",
   "language": "python",
   "name": "python3"
  },
  "language_info": {
   "codemirror_mode": {
    "name": "ipython",
    "version": 3
   },
   "file_extension": ".py",
   "mimetype": "text/x-python",
   "name": "python",
   "nbconvert_exporter": "python",
   "pygments_lexer": "ipython3",
   "version": "3.5.4"
  }
 },
 "nbformat": 4,
 "nbformat_minor": 2
}
